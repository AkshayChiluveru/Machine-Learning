{
 "cells": [
  {
   "cell_type": "code",
   "execution_count": 1,
   "id": "a628492e",
   "metadata": {},
   "outputs": [],
   "source": [
    "import pandas as pd\n",
    "import numpy as np\n",
    "import matplotlib.pyplot as plt\n",
    "import seaborn as sns\n",
    "import warnings\n",
    "warnings.filterwarnings('ignore')"
   ]
  },
  {
   "cell_type": "code",
   "execution_count": 3,
   "id": "c4ee526d",
   "metadata": {},
   "outputs": [
    {
     "data": {
      "text/html": [
       "<div>\n",
       "<style scoped>\n",
       "    .dataframe tbody tr th:only-of-type {\n",
       "        vertical-align: middle;\n",
       "    }\n",
       "\n",
       "    .dataframe tbody tr th {\n",
       "        vertical-align: top;\n",
       "    }\n",
       "\n",
       "    .dataframe thead th {\n",
       "        text-align: right;\n",
       "    }\n",
       "</style>\n",
       "<table border=\"1\" class=\"dataframe\">\n",
       "  <thead>\n",
       "    <tr style=\"text-align: right;\">\n",
       "      <th></th>\n",
       "      <th>cgpa</th>\n",
       "      <th>placement_exam_marks</th>\n",
       "      <th>placed</th>\n",
       "    </tr>\n",
       "  </thead>\n",
       "  <tbody>\n",
       "    <tr>\n",
       "      <th>0</th>\n",
       "      <td>7.19</td>\n",
       "      <td>26.0</td>\n",
       "      <td>1</td>\n",
       "    </tr>\n",
       "    <tr>\n",
       "      <th>1</th>\n",
       "      <td>7.46</td>\n",
       "      <td>38.0</td>\n",
       "      <td>1</td>\n",
       "    </tr>\n",
       "    <tr>\n",
       "      <th>2</th>\n",
       "      <td>7.54</td>\n",
       "      <td>40.0</td>\n",
       "      <td>1</td>\n",
       "    </tr>\n",
       "    <tr>\n",
       "      <th>3</th>\n",
       "      <td>6.42</td>\n",
       "      <td>8.0</td>\n",
       "      <td>1</td>\n",
       "    </tr>\n",
       "    <tr>\n",
       "      <th>4</th>\n",
       "      <td>7.23</td>\n",
       "      <td>17.0</td>\n",
       "      <td>0</td>\n",
       "    </tr>\n",
       "  </tbody>\n",
       "</table>\n",
       "</div>"
      ],
      "text/plain": [
       "   cgpa  placement_exam_marks  placed\n",
       "0  7.19                  26.0       1\n",
       "1  7.46                  38.0       1\n",
       "2  7.54                  40.0       1\n",
       "3  6.42                   8.0       1\n",
       "4  7.23                  17.0       0"
      ]
     },
     "execution_count": 3,
     "metadata": {},
     "output_type": "execute_result"
    }
   ],
   "source": [
    "data = pd.read_csv('placement.csv')\n",
    "data.head()"
   ]
  },
  {
   "cell_type": "code",
   "execution_count": 4,
   "id": "22b15a34",
   "metadata": {},
   "outputs": [
    {
     "data": {
      "text/plain": [
       "(1000, 3)"
      ]
     },
     "execution_count": 4,
     "metadata": {},
     "output_type": "execute_result"
    }
   ],
   "source": [
    "data.shape"
   ]
  },
  {
   "cell_type": "code",
   "execution_count": 5,
   "id": "6882ef4a",
   "metadata": {},
   "outputs": [
    {
     "data": {
      "text/plain": [
       "cgpa                    0\n",
       "placement_exam_marks    0\n",
       "placed                  0\n",
       "dtype: int64"
      ]
     },
     "execution_count": 5,
     "metadata": {},
     "output_type": "execute_result"
    }
   ],
   "source": [
    "data.isnull().sum()"
   ]
  },
  {
   "cell_type": "code",
   "execution_count": 9,
   "id": "4b49b904",
   "metadata": {},
   "outputs": [
    {
     "name": "stdout",
     "output_type": "stream",
     "text": [
      "<class 'pandas.core.frame.DataFrame'>\n",
      "RangeIndex: 1000 entries, 0 to 999\n",
      "Data columns (total 3 columns):\n",
      " #   Column                Non-Null Count  Dtype  \n",
      "---  ------                --------------  -----  \n",
      " 0   cgpa                  1000 non-null   float64\n",
      " 1   placement_exam_marks  1000 non-null   float64\n",
      " 2   placed                1000 non-null   int64  \n",
      "dtypes: float64(2), int64(1)\n",
      "memory usage: 23.6 KB\n"
     ]
    }
   ],
   "source": [
    "data.info()"
   ]
  },
  {
   "cell_type": "code",
   "execution_count": 10,
   "id": "a4257fea",
   "metadata": {},
   "outputs": [
    {
     "data": {
      "text/html": [
       "<div>\n",
       "<style scoped>\n",
       "    .dataframe tbody tr th:only-of-type {\n",
       "        vertical-align: middle;\n",
       "    }\n",
       "\n",
       "    .dataframe tbody tr th {\n",
       "        vertical-align: top;\n",
       "    }\n",
       "\n",
       "    .dataframe thead th {\n",
       "        text-align: right;\n",
       "    }\n",
       "</style>\n",
       "<table border=\"1\" class=\"dataframe\">\n",
       "  <thead>\n",
       "    <tr style=\"text-align: right;\">\n",
       "      <th></th>\n",
       "      <th>cgpa</th>\n",
       "      <th>placement_exam_marks</th>\n",
       "      <th>placed</th>\n",
       "    </tr>\n",
       "  </thead>\n",
       "  <tbody>\n",
       "    <tr>\n",
       "      <th>count</th>\n",
       "      <td>1000.000000</td>\n",
       "      <td>1000.000000</td>\n",
       "      <td>1000.000000</td>\n",
       "    </tr>\n",
       "    <tr>\n",
       "      <th>mean</th>\n",
       "      <td>6.961240</td>\n",
       "      <td>32.225000</td>\n",
       "      <td>0.489000</td>\n",
       "    </tr>\n",
       "    <tr>\n",
       "      <th>std</th>\n",
       "      <td>0.615898</td>\n",
       "      <td>19.130822</td>\n",
       "      <td>0.500129</td>\n",
       "    </tr>\n",
       "    <tr>\n",
       "      <th>min</th>\n",
       "      <td>4.890000</td>\n",
       "      <td>0.000000</td>\n",
       "      <td>0.000000</td>\n",
       "    </tr>\n",
       "    <tr>\n",
       "      <th>25%</th>\n",
       "      <td>6.550000</td>\n",
       "      <td>17.000000</td>\n",
       "      <td>0.000000</td>\n",
       "    </tr>\n",
       "    <tr>\n",
       "      <th>50%</th>\n",
       "      <td>6.960000</td>\n",
       "      <td>28.000000</td>\n",
       "      <td>0.000000</td>\n",
       "    </tr>\n",
       "    <tr>\n",
       "      <th>75%</th>\n",
       "      <td>7.370000</td>\n",
       "      <td>44.000000</td>\n",
       "      <td>1.000000</td>\n",
       "    </tr>\n",
       "    <tr>\n",
       "      <th>max</th>\n",
       "      <td>9.120000</td>\n",
       "      <td>100.000000</td>\n",
       "      <td>1.000000</td>\n",
       "    </tr>\n",
       "  </tbody>\n",
       "</table>\n",
       "</div>"
      ],
      "text/plain": [
       "              cgpa  placement_exam_marks       placed\n",
       "count  1000.000000           1000.000000  1000.000000\n",
       "mean      6.961240             32.225000     0.489000\n",
       "std       0.615898             19.130822     0.500129\n",
       "min       4.890000              0.000000     0.000000\n",
       "25%       6.550000             17.000000     0.000000\n",
       "50%       6.960000             28.000000     0.000000\n",
       "75%       7.370000             44.000000     1.000000\n",
       "max       9.120000            100.000000     1.000000"
      ]
     },
     "execution_count": 10,
     "metadata": {},
     "output_type": "execute_result"
    }
   ],
   "source": [
    "data.describe()"
   ]
  },
  {
   "cell_type": "code",
   "execution_count": 11,
   "id": "50e80189",
   "metadata": {},
   "outputs": [],
   "source": [
    "X = data.drop('placed',axis=1)\n",
    "y = data['placed']"
   ]
  },
  {
   "cell_type": "code",
   "execution_count": 12,
   "id": "7017205d",
   "metadata": {},
   "outputs": [],
   "source": [
    "from sklearn.model_selection import train_test_split\n",
    "X_train, X_test,y_train,y_test = train_test_split(X, y, test_size = 0.25, random_state = 0)"
   ]
  },
  {
   "cell_type": "code",
   "execution_count": 14,
   "id": "64404f6f",
   "metadata": {},
   "outputs": [
    {
     "data": {
      "text/plain": [
       "LinearRegression()"
      ]
     },
     "execution_count": 14,
     "metadata": {},
     "output_type": "execute_result"
    }
   ],
   "source": [
    "from sklearn.linear_model import LinearRegression\n",
    "lr = LinearRegression()\n",
    "lr"
   ]
  },
  {
   "cell_type": "code",
   "execution_count": 15,
   "id": "7230c513",
   "metadata": {},
   "outputs": [
    {
     "data": {
      "text/plain": [
       "LinearRegression()"
      ]
     },
     "execution_count": 15,
     "metadata": {},
     "output_type": "execute_result"
    }
   ],
   "source": [
    "lr.fit(X_train,y_train)"
   ]
  },
  {
   "cell_type": "code",
   "execution_count": 16,
   "id": "7d13f657",
   "metadata": {},
   "outputs": [
    {
     "data": {
      "text/plain": [
       "array([0.49991686, 0.49743828, 0.46502484, 0.50914035, 0.51560049,\n",
       "       0.50314478, 0.46966799, 0.48160838, 0.50305273, 0.51158108,\n",
       "       0.48864235, 0.51148903, 0.49884491, 0.50558981, 0.4747258 ,\n",
       "       0.51560479, 0.49005327, 0.49939377, 0.48181397, 0.49412259,\n",
       "       0.47908418, 0.49092822, 0.45893722, 0.42488312, 0.52516295,\n",
       "       0.50104302, 0.51386696, 0.5015747 , 0.47111676, 0.48478639,\n",
       "       0.50301918, 0.52252522, 0.48501264, 0.47447458, 0.50315767,\n",
       "       0.49725417, 0.49157691, 0.47587692, 0.51609433, 0.44430488,\n",
       "       0.51048417, 0.4638995 , 0.51242248, 0.5091068 , 0.47038808,\n",
       "       0.49329756, 0.51392976, 0.50628495, 0.48233706, 0.51337312,\n",
       "       0.49492615, 0.4455902 , 0.51556265, 0.49374148, 0.47702804,\n",
       "       0.49496829, 0.45618676, 0.50615504, 0.45261987, 0.51421882,\n",
       "       0.49167756, 0.49719995, 0.48256332, 0.46722295, 0.49129645,\n",
       "       0.48829478, 0.49864443, 0.43202981, 0.45856899, 0.51116212,\n",
       "       0.50650261, 0.50700074, 0.43518634, 0.46443036, 0.50985614,\n",
       "       0.47063929, 0.50050275, 0.45022905, 0.50556056, 0.43801678,\n",
       "       0.51427733, 0.51054268, 0.48005548, 0.49963639, 0.51050913,\n",
       "       0.47499767, 0.48861309, 0.48700087, 0.48180109, 0.49562128,\n",
       "       0.47468365, 0.46575352, 0.51135483, 0.4889357 , 0.44303674,\n",
       "       0.46187608, 0.52842443, 0.50771224, 0.48746974, 0.49641706,\n",
       "       0.48649415, 0.48291088, 0.48890992, 0.477447  , 0.50688373,\n",
       "       0.47226788, 0.49867368, 0.43675642, 0.51591021, 0.4590215 ,\n",
       "       0.46773397, 0.4477341 , 0.50395693, 0.49846809, 0.51914243,\n",
       "       0.50368506, 0.50216918, 0.45867823, 0.46948817, 0.46903995,\n",
       "       0.48134857, 0.49111663, 0.46035244, 0.51801627, 0.49591893,\n",
       "       0.50898549, 0.51009447, 0.42563676, 0.47829269, 0.50948362,\n",
       "       0.4514309 , 0.41187078, 0.50626858, 0.50315767, 0.47644215,\n",
       "       0.43538763, 0.46230793, 0.47844326, 0.48772955, 0.49856444,\n",
       "       0.49254822, 0.5089726 , 0.50522159, 0.46855042, 0.49513522,\n",
       "       0.49060991, 0.48788441, 0.51503097, 0.49313493, 0.52275147,\n",
       "       0.50563196, 0.51030006, 0.42788909, 0.50756597, 0.50595457,\n",
       "       0.48248333, 0.50013452, 0.50318263, 0.50481551, 0.5028144 ,\n",
       "       0.45855692, 0.5044972 , 0.48164193, 0.51589732, 0.46798519,\n",
       "       0.49866939, 0.46795164, 0.51919664, 0.51386696, 0.48793862,\n",
       "       0.49399269, 0.5155291 , 0.49399699, 0.48916973, 0.51103304,\n",
       "       0.50082536, 0.48346752, 0.49907546, 0.50763307, 0.50417889,\n",
       "       0.49208793, 0.5011807 , 0.51565041, 0.48908626, 0.48517957,\n",
       "       0.50356375, 0.49840958, 0.47227647, 0.44100638, 0.52023075,\n",
       "       0.46076281, 0.45697825, 0.4858833 , 0.50117722, 0.50308198,\n",
       "       0.48349248, 0.4914556 , 0.50497467, 0.46986069, 0.51006174,\n",
       "       0.49809986, 0.49229271, 0.48092614, 0.51089025, 0.50108946,\n",
       "       0.50553131, 0.51115005, 0.49242691, 0.50378141, 0.47662196,\n",
       "       0.51587666, 0.45098269, 0.52501239, 0.50427095, 0.49052644,\n",
       "       0.50740252, 0.46006768, 0.46692183, 0.42371911, 0.47447888,\n",
       "       0.5060544 , 0.4952195 , 0.4701876 , 0.47256553, 0.50713064,\n",
       "       0.50072471, 0.47888718, 0.45108333, 0.49421465, 0.51139697,\n",
       "       0.48757899, 0.47271609, 0.5064441 , 0.50147835, 0.50428383,\n",
       "       0.50788858, 0.51076894, 0.50539711, 0.51310902, 0.47914269,\n",
       "       0.45086138, 0.4976181 , 0.49272803, 0.51471265, 0.46011412,\n",
       "       0.5137078 , 0.46113533, 0.48296939, 0.48622657, 0.51163959])"
      ]
     },
     "execution_count": 16,
     "metadata": {},
     "output_type": "execute_result"
    }
   ],
   "source": [
    "y_pred = lr.predict(X_test)\n",
    "y_pred"
   ]
  },
  {
   "cell_type": "code",
   "execution_count": 17,
   "id": "7e876663",
   "metadata": {},
   "outputs": [
    {
     "data": {
      "text/plain": [
       "0.0020511659619834033"
      ]
     },
     "execution_count": 17,
     "metadata": {},
     "output_type": "execute_result"
    }
   ],
   "source": [
    "lr.score(X_train,y_train)"
   ]
  },
  {
   "cell_type": "code",
   "execution_count": 21,
   "id": "726e2876",
   "metadata": {},
   "outputs": [
    {
     "data": {
      "text/plain": [
       "-494.2187651887901"
      ]
     },
     "execution_count": 21,
     "metadata": {},
     "output_type": "execute_result"
    }
   ],
   "source": [
    "from sklearn.metrics import r2_score\n",
    "r2_score(y_pred,y_test)"
   ]
  },
  {
   "cell_type": "code",
   "execution_count": null,
   "id": "c54eeab7",
   "metadata": {},
   "outputs": [],
   "source": []
  }
 ],
 "metadata": {
  "kernelspec": {
   "display_name": "Python 3 (ipykernel)",
   "language": "python",
   "name": "python3"
  },
  "language_info": {
   "codemirror_mode": {
    "name": "ipython",
    "version": 3
   },
   "file_extension": ".py",
   "mimetype": "text/x-python",
   "name": "python",
   "nbconvert_exporter": "python",
   "pygments_lexer": "ipython3",
   "version": "3.9.13"
  }
 },
 "nbformat": 4,
 "nbformat_minor": 5
}
