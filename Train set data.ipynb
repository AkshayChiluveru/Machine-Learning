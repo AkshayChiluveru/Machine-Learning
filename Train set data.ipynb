{
 "cells": [
  {
   "cell_type": "code",
   "execution_count": 6,
   "id": "a3330228",
   "metadata": {},
   "outputs": [],
   "source": [
    "import pandas as pd\n",
    "import numpy as np\n",
    "import matplotlib.pyplot as plt\n",
    "import seaborn as sns\n",
    "import warnings\n",
    "warnings.filterwarnings('ignore')"
   ]
  },
  {
   "cell_type": "code",
   "execution_count": 7,
   "id": "0362ee52",
   "metadata": {},
   "outputs": [
    {
     "data": {
      "text/html": [
       "<div>\n",
       "<style scoped>\n",
       "    .dataframe tbody tr th:only-of-type {\n",
       "        vertical-align: middle;\n",
       "    }\n",
       "\n",
       "    .dataframe tbody tr th {\n",
       "        vertical-align: top;\n",
       "    }\n",
       "\n",
       "    .dataframe thead th {\n",
       "        text-align: right;\n",
       "    }\n",
       "</style>\n",
       "<table border=\"1\" class=\"dataframe\">\n",
       "  <thead>\n",
       "    <tr style=\"text-align: right;\">\n",
       "      <th></th>\n",
       "      <th>Year</th>\n",
       "      <th>OGC</th>\n",
       "      <th>OG</th>\n",
       "      <th>DC</th>\n",
       "      <th>Dept</th>\n",
       "      <th>UC</th>\n",
       "      <th>Union</th>\n",
       "      <th>JF</th>\n",
       "      <th>Job</th>\n",
       "      <th>EI</th>\n",
       "      <th>Salaries</th>\n",
       "      <th>Overtime</th>\n",
       "      <th>H/D</th>\n",
       "      <th>YT</th>\n",
       "      <th>Total_Compensation</th>\n",
       "    </tr>\n",
       "  </thead>\n",
       "  <tbody>\n",
       "    <tr>\n",
       "      <th>0</th>\n",
       "      <td>2015</td>\n",
       "      <td>4</td>\n",
       "      <td>Community Health</td>\n",
       "      <td>DPH</td>\n",
       "      <td>Public Health</td>\n",
       "      <td>250</td>\n",
       "      <td>SEIU - Health Workers, Local 1021</td>\n",
       "      <td>Med Therapy &amp; Auxiliary</td>\n",
       "      <td>Morgue Attendant</td>\n",
       "      <td>6725</td>\n",
       "      <td>12196</td>\n",
       "      <td>0</td>\n",
       "      <td>0.00</td>\n",
       "      <td>Calendar</td>\n",
       "      <td>16158</td>\n",
       "    </tr>\n",
       "    <tr>\n",
       "      <th>1</th>\n",
       "      <td>2013</td>\n",
       "      <td>4</td>\n",
       "      <td>Community Health</td>\n",
       "      <td>DPH</td>\n",
       "      <td>Public Health</td>\n",
       "      <td>39</td>\n",
       "      <td>Stationary Engineers, Local 39</td>\n",
       "      <td>Journeyman Trade</td>\n",
       "      <td>Stationary Engineer</td>\n",
       "      <td>25058</td>\n",
       "      <td>74639</td>\n",
       "      <td>2820</td>\n",
       "      <td>12703.31</td>\n",
       "      <td>Fiscal</td>\n",
       "      <td>115784</td>\n",
       "    </tr>\n",
       "    <tr>\n",
       "      <th>2</th>\n",
       "      <td>2015</td>\n",
       "      <td>6</td>\n",
       "      <td>General Administration &amp; Finance</td>\n",
       "      <td>ASR</td>\n",
       "      <td>Assessor/Recorder</td>\n",
       "      <td>21</td>\n",
       "      <td>Prof &amp; Tech Engineers - Miscellaneous, Local 21</td>\n",
       "      <td>Appraisal &amp; Taxation</td>\n",
       "      <td>Senior Real Property Appraiser</td>\n",
       "      <td>46108</td>\n",
       "      <td>100554</td>\n",
       "      <td>0</td>\n",
       "      <td>12424.50</td>\n",
       "      <td>Calendar</td>\n",
       "      <td>144708</td>\n",
       "    </tr>\n",
       "    <tr>\n",
       "      <th>3</th>\n",
       "      <td>2016</td>\n",
       "      <td>1</td>\n",
       "      <td>Public Protection</td>\n",
       "      <td>POL</td>\n",
       "      <td>Police</td>\n",
       "      <td>911</td>\n",
       "      <td>Police Officers' Association</td>\n",
       "      <td>Police Services</td>\n",
       "      <td>Sergeant 3</td>\n",
       "      <td>33369</td>\n",
       "      <td>140164</td>\n",
       "      <td>52754</td>\n",
       "      <td>13043.87</td>\n",
       "      <td>Fiscal</td>\n",
       "      <td>242323</td>\n",
       "    </tr>\n",
       "    <tr>\n",
       "      <th>4</th>\n",
       "      <td>2013</td>\n",
       "      <td>2</td>\n",
       "      <td>Public Works, Transportation &amp; Commerce</td>\n",
       "      <td>HHP</td>\n",
       "      <td>PUC Hetch Hetchy</td>\n",
       "      <td>21</td>\n",
       "      <td>Prof &amp; Tech Engineers - Miscellaneous, Local 21</td>\n",
       "      <td>Information Systems</td>\n",
       "      <td>IS Engineer-Journey</td>\n",
       "      <td>28684</td>\n",
       "      <td>58813</td>\n",
       "      <td>0</td>\n",
       "      <td>7655.28</td>\n",
       "      <td>Calendar</td>\n",
       "      <td>82106</td>\n",
       "    </tr>\n",
       "  </tbody>\n",
       "</table>\n",
       "</div>"
      ],
      "text/plain": [
       "   Year  OGC                                       OG   DC               Dept  \\\n",
       "0  2015    4                         Community Health  DPH      Public Health   \n",
       "1  2013    4                         Community Health  DPH      Public Health   \n",
       "2  2015    6         General Administration & Finance  ASR  Assessor/Recorder   \n",
       "3  2016    1                        Public Protection  POL             Police   \n",
       "4  2013    2  Public Works, Transportation & Commerce  HHP   PUC Hetch Hetchy   \n",
       "\n",
       "    UC                                            Union  \\\n",
       "0  250                SEIU - Health Workers, Local 1021   \n",
       "1   39                   Stationary Engineers, Local 39   \n",
       "2   21  Prof & Tech Engineers - Miscellaneous, Local 21   \n",
       "3  911                     Police Officers' Association   \n",
       "4   21  Prof & Tech Engineers - Miscellaneous, Local 21   \n",
       "\n",
       "                        JF                             Job     EI  Salaries  \\\n",
       "0  Med Therapy & Auxiliary                Morgue Attendant   6725     12196   \n",
       "1         Journeyman Trade             Stationary Engineer  25058     74639   \n",
       "2     Appraisal & Taxation  Senior Real Property Appraiser  46108    100554   \n",
       "3          Police Services                      Sergeant 3  33369    140164   \n",
       "4      Information Systems             IS Engineer-Journey  28684     58813   \n",
       "\n",
       "   Overtime       H/D        YT  Total_Compensation  \n",
       "0         0      0.00  Calendar               16158  \n",
       "1      2820  12703.31    Fiscal              115784  \n",
       "2         0  12424.50  Calendar              144708  \n",
       "3     52754  13043.87    Fiscal              242323  \n",
       "4         0   7655.28  Calendar               82106  "
      ]
     },
     "execution_count": 7,
     "metadata": {},
     "output_type": "execute_result"
    }
   ],
   "source": [
    "data = pd.read_csv('train_set.csv')\n",
    "data.head()"
   ]
  },
  {
   "cell_type": "markdown",
   "id": "061ff164",
   "metadata": {},
   "source": [
    "## Data Description"
   ]
  },
  {
   "cell_type": "markdown",
   "id": "cd8fecf3",
   "metadata": {},
   "source": [
    "- OGC: Organization Group Code - Org Group is a group of Departments. For example, the Public Protection Org Group includes departments such as the Police, Fire, Adult Probation, District Attorney, and Sheriff. \n",
    "\n",
    "- OG: Organization Group names\n",
    "\n",
    "- DC: Department Code - Departments are the primary organizational unit used by the City and County of San Francisco. Examples include Recreation and Parks, Public Works, and the Police Department.\n",
    "\n",
    "- Dept: Department name\n",
    "\n",
    "- UC: Union Code - Unions represent employees in collective bargaining agreements. A job belongs to one union, although some jobs are unrepresented (usually temporarily).\n",
    "\n",
    "- Union: Union names\n",
    "\n",
    "- JF: Job Family - Job Family combines similar Jobs into meaningful groups.\n",
    "\n",
    "- Job: Job name\n",
    "\n",
    "- EI: Employee Identifier\n",
    "\n",
    "- Salaries: Salary of the employee\n",
    "\n",
    "- Overtime: Amounts paid to City employees working in excess of 40 hours per week. \n",
    "\n",
    "- H/D: Health/Dental - City-paid premiums to health and dental insurance plans covering City employees. To protect confidentiality as legally required, pro-rated citywide averages are presented in lieu of employee-specific health and dental benefits. \n",
    "\n",
    "- YT: Year Type - Fiscal (July through June) or Calendar (January through December)\n",
    "\n",
    "- Total_Compensation: The final compensation i.e. the sum of all salaries and benefits paid to City employees."
   ]
  },
  {
   "cell_type": "code",
   "execution_count": 8,
   "id": "b6767240",
   "metadata": {},
   "outputs": [
    {
     "data": {
      "text/plain": [
       "(287836, 15)"
      ]
     },
     "execution_count": 8,
     "metadata": {},
     "output_type": "execute_result"
    }
   ],
   "source": [
    "data.shape"
   ]
  },
  {
   "cell_type": "code",
   "execution_count": 9,
   "id": "e7dd560e",
   "metadata": {},
   "outputs": [
    {
     "data": {
      "text/plain": [
       "Year                   0\n",
       "OGC                    0\n",
       "OG                     0\n",
       "DC                     0\n",
       "Dept                   0\n",
       "UC                     0\n",
       "Union                 36\n",
       "JF                    38\n",
       "Job                    0\n",
       "EI                     0\n",
       "Salaries               0\n",
       "Overtime               0\n",
       "H/D                    0\n",
       "YT                     0\n",
       "Total_Compensation     0\n",
       "dtype: int64"
      ]
     },
     "execution_count": 9,
     "metadata": {},
     "output_type": "execute_result"
    }
   ],
   "source": [
    "data.isnull().sum()"
   ]
  },
  {
   "cell_type": "code",
   "execution_count": 16,
   "id": "08cb67f7",
   "metadata": {},
   "outputs": [
    {
     "data": {
      "text/plain": [
       "'SEIU - Miscellaneous, Local 1021'"
      ]
     },
     "execution_count": 16,
     "metadata": {},
     "output_type": "execute_result"
    }
   ],
   "source": [
    "data['Union'].mode()[0]"
   ]
  },
  {
   "cell_type": "code",
   "execution_count": 15,
   "id": "7d795dc1",
   "metadata": {},
   "outputs": [
    {
     "data": {
      "text/plain": [
       "SEIU - Miscellaneous, Local 1021                      81349\n",
       "Prof & Tech Engineers - Miscellaneous, Local 21       36130\n",
       "SEIU - Staff and Per Diem Nurses, Local 1021          21861\n",
       "Police Officers' Association                          19177\n",
       "Transport Workers - Transit Operators, Local 250-A    17804\n",
       "                                                      ...  \n",
       "Municipal Executive Association - Police                  9\n",
       "Management Unrepresented Employees - MTA                  7\n",
       "Port Director                                             6\n",
       "Municipal Exec Assoc-Misc                                 2\n",
       "POA                                                       2\n",
       "Name: Union, Length: 73, dtype: int64"
      ]
     },
     "execution_count": 15,
     "metadata": {},
     "output_type": "execute_result"
    }
   ],
   "source": [
    "data['Union'].value_counts()"
   ]
  },
  {
   "cell_type": "code",
   "execution_count": 18,
   "id": "9c678dee",
   "metadata": {},
   "outputs": [],
   "source": [
    "data['Union'] = data['Union'].fillna('SEIU - Miscellaneous, Local 1021')"
   ]
  },
  {
   "cell_type": "code",
   "execution_count": 19,
   "id": "daa79074",
   "metadata": {},
   "outputs": [
    {
     "data": {
      "text/plain": [
       "Year                   0\n",
       "OGC                    0\n",
       "OG                     0\n",
       "DC                     0\n",
       "Dept                   0\n",
       "UC                     0\n",
       "Union                  0\n",
       "JF                    38\n",
       "Job                    0\n",
       "EI                     0\n",
       "Salaries               0\n",
       "Overtime               0\n",
       "H/D                    0\n",
       "YT                     0\n",
       "Total_Compensation     0\n",
       "dtype: int64"
      ]
     },
     "execution_count": 19,
     "metadata": {},
     "output_type": "execute_result"
    }
   ],
   "source": [
    "data.isnull().sum()"
   ]
  },
  {
   "cell_type": "code",
   "execution_count": 20,
   "id": "2f7588c0",
   "metadata": {},
   "outputs": [
    {
     "data": {
      "text/plain": [
       "0    Nursing\n",
       "Name: JF, dtype: object"
      ]
     },
     "execution_count": 20,
     "metadata": {},
     "output_type": "execute_result"
    }
   ],
   "source": [
    "data['JF'].mode()"
   ]
  },
  {
   "cell_type": "code",
   "execution_count": 21,
   "id": "9cd60f4c",
   "metadata": {},
   "outputs": [],
   "source": [
    "data['JF'] = data['JF'].fillna('Nursing')"
   ]
  },
  {
   "cell_type": "code",
   "execution_count": 22,
   "id": "3be4066a",
   "metadata": {},
   "outputs": [
    {
     "data": {
      "text/html": [
       "<div>\n",
       "<style scoped>\n",
       "    .dataframe tbody tr th:only-of-type {\n",
       "        vertical-align: middle;\n",
       "    }\n",
       "\n",
       "    .dataframe tbody tr th {\n",
       "        vertical-align: top;\n",
       "    }\n",
       "\n",
       "    .dataframe thead th {\n",
       "        text-align: right;\n",
       "    }\n",
       "</style>\n",
       "<table border=\"1\" class=\"dataframe\">\n",
       "  <thead>\n",
       "    <tr style=\"text-align: right;\">\n",
       "      <th></th>\n",
       "      <th>Year</th>\n",
       "      <th>OGC</th>\n",
       "      <th>OG</th>\n",
       "      <th>DC</th>\n",
       "      <th>Dept</th>\n",
       "      <th>UC</th>\n",
       "      <th>Union</th>\n",
       "      <th>JF</th>\n",
       "      <th>Job</th>\n",
       "      <th>EI</th>\n",
       "      <th>Salaries</th>\n",
       "      <th>Overtime</th>\n",
       "      <th>H/D</th>\n",
       "      <th>YT</th>\n",
       "      <th>Total_Compensation</th>\n",
       "    </tr>\n",
       "  </thead>\n",
       "  <tbody>\n",
       "    <tr>\n",
       "      <th>0</th>\n",
       "      <td>2015</td>\n",
       "      <td>4</td>\n",
       "      <td>Community Health</td>\n",
       "      <td>DPH</td>\n",
       "      <td>Public Health</td>\n",
       "      <td>250</td>\n",
       "      <td>SEIU - Health Workers, Local 1021</td>\n",
       "      <td>Med Therapy &amp; Auxiliary</td>\n",
       "      <td>Morgue Attendant</td>\n",
       "      <td>6725</td>\n",
       "      <td>12196</td>\n",
       "      <td>0</td>\n",
       "      <td>0.00</td>\n",
       "      <td>Calendar</td>\n",
       "      <td>16158</td>\n",
       "    </tr>\n",
       "    <tr>\n",
       "      <th>1</th>\n",
       "      <td>2013</td>\n",
       "      <td>4</td>\n",
       "      <td>Community Health</td>\n",
       "      <td>DPH</td>\n",
       "      <td>Public Health</td>\n",
       "      <td>39</td>\n",
       "      <td>Stationary Engineers, Local 39</td>\n",
       "      <td>Journeyman Trade</td>\n",
       "      <td>Stationary Engineer</td>\n",
       "      <td>25058</td>\n",
       "      <td>74639</td>\n",
       "      <td>2820</td>\n",
       "      <td>12703.31</td>\n",
       "      <td>Fiscal</td>\n",
       "      <td>115784</td>\n",
       "    </tr>\n",
       "    <tr>\n",
       "      <th>2</th>\n",
       "      <td>2015</td>\n",
       "      <td>6</td>\n",
       "      <td>General Administration &amp; Finance</td>\n",
       "      <td>ASR</td>\n",
       "      <td>Assessor/Recorder</td>\n",
       "      <td>21</td>\n",
       "      <td>Prof &amp; Tech Engineers - Miscellaneous, Local 21</td>\n",
       "      <td>Appraisal &amp; Taxation</td>\n",
       "      <td>Senior Real Property Appraiser</td>\n",
       "      <td>46108</td>\n",
       "      <td>100554</td>\n",
       "      <td>0</td>\n",
       "      <td>12424.50</td>\n",
       "      <td>Calendar</td>\n",
       "      <td>144708</td>\n",
       "    </tr>\n",
       "    <tr>\n",
       "      <th>3</th>\n",
       "      <td>2016</td>\n",
       "      <td>1</td>\n",
       "      <td>Public Protection</td>\n",
       "      <td>POL</td>\n",
       "      <td>Police</td>\n",
       "      <td>911</td>\n",
       "      <td>Police Officers' Association</td>\n",
       "      <td>Police Services</td>\n",
       "      <td>Sergeant 3</td>\n",
       "      <td>33369</td>\n",
       "      <td>140164</td>\n",
       "      <td>52754</td>\n",
       "      <td>13043.87</td>\n",
       "      <td>Fiscal</td>\n",
       "      <td>242323</td>\n",
       "    </tr>\n",
       "    <tr>\n",
       "      <th>4</th>\n",
       "      <td>2013</td>\n",
       "      <td>2</td>\n",
       "      <td>Public Works, Transportation &amp; Commerce</td>\n",
       "      <td>HHP</td>\n",
       "      <td>PUC Hetch Hetchy</td>\n",
       "      <td>21</td>\n",
       "      <td>Prof &amp; Tech Engineers - Miscellaneous, Local 21</td>\n",
       "      <td>Information Systems</td>\n",
       "      <td>IS Engineer-Journey</td>\n",
       "      <td>28684</td>\n",
       "      <td>58813</td>\n",
       "      <td>0</td>\n",
       "      <td>7655.28</td>\n",
       "      <td>Calendar</td>\n",
       "      <td>82106</td>\n",
       "    </tr>\n",
       "  </tbody>\n",
       "</table>\n",
       "</div>"
      ],
      "text/plain": [
       "   Year  OGC                                       OG   DC               Dept  \\\n",
       "0  2015    4                         Community Health  DPH      Public Health   \n",
       "1  2013    4                         Community Health  DPH      Public Health   \n",
       "2  2015    6         General Administration & Finance  ASR  Assessor/Recorder   \n",
       "3  2016    1                        Public Protection  POL             Police   \n",
       "4  2013    2  Public Works, Transportation & Commerce  HHP   PUC Hetch Hetchy   \n",
       "\n",
       "    UC                                            Union  \\\n",
       "0  250                SEIU - Health Workers, Local 1021   \n",
       "1   39                   Stationary Engineers, Local 39   \n",
       "2   21  Prof & Tech Engineers - Miscellaneous, Local 21   \n",
       "3  911                     Police Officers' Association   \n",
       "4   21  Prof & Tech Engineers - Miscellaneous, Local 21   \n",
       "\n",
       "                        JF                             Job     EI  Salaries  \\\n",
       "0  Med Therapy & Auxiliary                Morgue Attendant   6725     12196   \n",
       "1         Journeyman Trade             Stationary Engineer  25058     74639   \n",
       "2     Appraisal & Taxation  Senior Real Property Appraiser  46108    100554   \n",
       "3          Police Services                      Sergeant 3  33369    140164   \n",
       "4      Information Systems             IS Engineer-Journey  28684     58813   \n",
       "\n",
       "   Overtime       H/D        YT  Total_Compensation  \n",
       "0         0      0.00  Calendar               16158  \n",
       "1      2820  12703.31    Fiscal              115784  \n",
       "2         0  12424.50  Calendar              144708  \n",
       "3     52754  13043.87    Fiscal              242323  \n",
       "4         0   7655.28  Calendar               82106  "
      ]
     },
     "execution_count": 22,
     "metadata": {},
     "output_type": "execute_result"
    }
   ],
   "source": [
    "data.head()"
   ]
  },
  {
   "cell_type": "code",
   "execution_count": 23,
   "id": "5c7998cd",
   "metadata": {},
   "outputs": [
    {
     "data": {
      "text/plain": [
       "Year                  0\n",
       "OGC                   0\n",
       "OG                    0\n",
       "DC                    0\n",
       "Dept                  0\n",
       "UC                    0\n",
       "Union                 0\n",
       "JF                    0\n",
       "Job                   0\n",
       "EI                    0\n",
       "Salaries              0\n",
       "Overtime              0\n",
       "H/D                   0\n",
       "YT                    0\n",
       "Total_Compensation    0\n",
       "dtype: int64"
      ]
     },
     "execution_count": 23,
     "metadata": {},
     "output_type": "execute_result"
    }
   ],
   "source": [
    "data.isnull().sum()"
   ]
  },
  {
   "cell_type": "code",
   "execution_count": 24,
   "id": "3627f99d",
   "metadata": {},
   "outputs": [
    {
     "data": {
      "text/html": [
       "<div>\n",
       "<style scoped>\n",
       "    .dataframe tbody tr th:only-of-type {\n",
       "        vertical-align: middle;\n",
       "    }\n",
       "\n",
       "    .dataframe tbody tr th {\n",
       "        vertical-align: top;\n",
       "    }\n",
       "\n",
       "    .dataframe thead th {\n",
       "        text-align: right;\n",
       "    }\n",
       "</style>\n",
       "<table border=\"1\" class=\"dataframe\">\n",
       "  <thead>\n",
       "    <tr style=\"text-align: right;\">\n",
       "      <th></th>\n",
       "      <th>Year</th>\n",
       "      <th>OGC</th>\n",
       "      <th>UC</th>\n",
       "      <th>EI</th>\n",
       "      <th>Salaries</th>\n",
       "      <th>Overtime</th>\n",
       "      <th>H/D</th>\n",
       "      <th>Total_Compensation</th>\n",
       "    </tr>\n",
       "  </thead>\n",
       "  <tbody>\n",
       "    <tr>\n",
       "      <th>count</th>\n",
       "      <td>287836.000000</td>\n",
       "      <td>287836.000000</td>\n",
       "      <td>287836.000000</td>\n",
       "      <td>287836.000000</td>\n",
       "      <td>287836.000000</td>\n",
       "      <td>287836.000000</td>\n",
       "      <td>287836.000000</td>\n",
       "      <td>287836.000000</td>\n",
       "    </tr>\n",
       "    <tr>\n",
       "      <th>mean</th>\n",
       "      <td>2014.250104</td>\n",
       "      <td>2.976007</td>\n",
       "      <td>490.540186</td>\n",
       "      <td>26913.060020</td>\n",
       "      <td>63262.713139</td>\n",
       "      <td>4401.037115</td>\n",
       "      <td>8932.876472</td>\n",
       "      <td>97990.329882</td>\n",
       "    </tr>\n",
       "    <tr>\n",
       "      <th>std</th>\n",
       "      <td>1.016282</td>\n",
       "      <td>1.575586</td>\n",
       "      <td>333.238723</td>\n",
       "      <td>15539.719696</td>\n",
       "      <td>44638.657748</td>\n",
       "      <td>11079.137749</td>\n",
       "      <td>4894.072024</td>\n",
       "      <td>67750.020573</td>\n",
       "    </tr>\n",
       "    <tr>\n",
       "      <th>min</th>\n",
       "      <td>2013.000000</td>\n",
       "      <td>1.000000</td>\n",
       "      <td>1.000000</td>\n",
       "      <td>1.000000</td>\n",
       "      <td>-68771.000000</td>\n",
       "      <td>-12308.000000</td>\n",
       "      <td>-2940.470000</td>\n",
       "      <td>-74082.000000</td>\n",
       "    </tr>\n",
       "    <tr>\n",
       "      <th>25%</th>\n",
       "      <td>2013.000000</td>\n",
       "      <td>2.000000</td>\n",
       "      <td>236.000000</td>\n",
       "      <td>13434.000000</td>\n",
       "      <td>23406.000000</td>\n",
       "      <td>0.000000</td>\n",
       "      <td>4358.347500</td>\n",
       "      <td>35977.000000</td>\n",
       "    </tr>\n",
       "    <tr>\n",
       "      <th>50%</th>\n",
       "      <td>2014.000000</td>\n",
       "      <td>2.000000</td>\n",
       "      <td>535.000000</td>\n",
       "      <td>27013.000000</td>\n",
       "      <td>62504.500000</td>\n",
       "      <td>0.000000</td>\n",
       "      <td>11982.035000</td>\n",
       "      <td>98033.000000</td>\n",
       "    </tr>\n",
       "    <tr>\n",
       "      <th>75%</th>\n",
       "      <td>2015.000000</td>\n",
       "      <td>4.000000</td>\n",
       "      <td>790.000000</td>\n",
       "      <td>40397.250000</td>\n",
       "      <td>93000.250000</td>\n",
       "      <td>2738.000000</td>\n",
       "      <td>12801.790000</td>\n",
       "      <td>142138.250000</td>\n",
       "    </tr>\n",
       "    <tr>\n",
       "      <th>max</th>\n",
       "      <td>2016.000000</td>\n",
       "      <td>7.000000</td>\n",
       "      <td>990.000000</td>\n",
       "      <td>53794.000000</td>\n",
       "      <td>515101.000000</td>\n",
       "      <td>227313.000000</td>\n",
       "      <td>21872.800000</td>\n",
       "      <td>653498.000000</td>\n",
       "    </tr>\n",
       "  </tbody>\n",
       "</table>\n",
       "</div>"
      ],
      "text/plain": [
       "                Year            OGC             UC             EI  \\\n",
       "count  287836.000000  287836.000000  287836.000000  287836.000000   \n",
       "mean     2014.250104       2.976007     490.540186   26913.060020   \n",
       "std         1.016282       1.575586     333.238723   15539.719696   \n",
       "min      2013.000000       1.000000       1.000000       1.000000   \n",
       "25%      2013.000000       2.000000     236.000000   13434.000000   \n",
       "50%      2014.000000       2.000000     535.000000   27013.000000   \n",
       "75%      2015.000000       4.000000     790.000000   40397.250000   \n",
       "max      2016.000000       7.000000     990.000000   53794.000000   \n",
       "\n",
       "            Salaries       Overtime            H/D  Total_Compensation  \n",
       "count  287836.000000  287836.000000  287836.000000       287836.000000  \n",
       "mean    63262.713139    4401.037115    8932.876472        97990.329882  \n",
       "std     44638.657748   11079.137749    4894.072024        67750.020573  \n",
       "min    -68771.000000  -12308.000000   -2940.470000       -74082.000000  \n",
       "25%     23406.000000       0.000000    4358.347500        35977.000000  \n",
       "50%     62504.500000       0.000000   11982.035000        98033.000000  \n",
       "75%     93000.250000    2738.000000   12801.790000       142138.250000  \n",
       "max    515101.000000  227313.000000   21872.800000       653498.000000  "
      ]
     },
     "execution_count": 24,
     "metadata": {},
     "output_type": "execute_result"
    }
   ],
   "source": [
    "data.describe()"
   ]
  },
  {
   "cell_type": "code",
   "execution_count": 25,
   "id": "53ce0170",
   "metadata": {},
   "outputs": [
    {
     "name": "stdout",
     "output_type": "stream",
     "text": [
      "<class 'pandas.core.frame.DataFrame'>\n",
      "RangeIndex: 287836 entries, 0 to 287835\n",
      "Data columns (total 15 columns):\n",
      " #   Column              Non-Null Count   Dtype  \n",
      "---  ------              --------------   -----  \n",
      " 0   Year                287836 non-null  int64  \n",
      " 1   OGC                 287836 non-null  int64  \n",
      " 2   OG                  287836 non-null  object \n",
      " 3   DC                  287836 non-null  object \n",
      " 4   Dept                287836 non-null  object \n",
      " 5   UC                  287836 non-null  int64  \n",
      " 6   Union               287836 non-null  object \n",
      " 7   JF                  287836 non-null  object \n",
      " 8   Job                 287836 non-null  object \n",
      " 9   EI                  287836 non-null  int64  \n",
      " 10  Salaries            287836 non-null  int64  \n",
      " 11  Overtime            287836 non-null  int64  \n",
      " 12  H/D                 287836 non-null  float64\n",
      " 13  YT                  287836 non-null  object \n",
      " 14  Total_Compensation  287836 non-null  int64  \n",
      "dtypes: float64(1), int64(7), object(7)\n",
      "memory usage: 32.9+ MB\n"
     ]
    }
   ],
   "source": [
    "data.info()"
   ]
  },
  {
   "cell_type": "code",
   "execution_count": 30,
   "id": "a46b10ac",
   "metadata": {},
   "outputs": [],
   "source": [
    "from sklearn.model_selection import train_test_split"
   ]
  },
  {
   "cell_type": "code",
   "execution_count": 31,
   "id": "a4e470a3",
   "metadata": {},
   "outputs": [],
   "source": [
    "# Select relevant features\n",
    "selected_features = ['Salaries', 'Overtime', 'H/D']\n",
    "\n",
    "# Create the feature matrix (X) and target vector (y)\n",
    "X = data[selected_features]\n",
    "y = data['Total_Compensation']\n",
    "\n",
    "# Split the data into training and testing sets\n",
    "X_train, X_test, y_train, y_test = train_test_split(X, y, test_size=0.2, random_state=42)\n"
   ]
  },
  {
   "cell_type": "code",
   "execution_count": 32,
   "id": "cfa30f1c",
   "metadata": {},
   "outputs": [
    {
     "data": {
      "text/html": [
       "<div>\n",
       "<style scoped>\n",
       "    .dataframe tbody tr th:only-of-type {\n",
       "        vertical-align: middle;\n",
       "    }\n",
       "\n",
       "    .dataframe tbody tr th {\n",
       "        vertical-align: top;\n",
       "    }\n",
       "\n",
       "    .dataframe thead th {\n",
       "        text-align: right;\n",
       "    }\n",
       "</style>\n",
       "<table border=\"1\" class=\"dataframe\">\n",
       "  <thead>\n",
       "    <tr style=\"text-align: right;\">\n",
       "      <th></th>\n",
       "      <th>Salaries</th>\n",
       "      <th>Overtime</th>\n",
       "      <th>H/D</th>\n",
       "    </tr>\n",
       "  </thead>\n",
       "  <tbody>\n",
       "    <tr>\n",
       "      <th>245781</th>\n",
       "      <td>31799</td>\n",
       "      <td>89</td>\n",
       "      <td>6599.99061</td>\n",
       "    </tr>\n",
       "    <tr>\n",
       "      <th>255286</th>\n",
       "      <td>1997</td>\n",
       "      <td>0</td>\n",
       "      <td>868.09000</td>\n",
       "    </tr>\n",
       "    <tr>\n",
       "      <th>243202</th>\n",
       "      <td>7303</td>\n",
       "      <td>1729</td>\n",
       "      <td>2422.57000</td>\n",
       "    </tr>\n",
       "    <tr>\n",
       "      <th>219622</th>\n",
       "      <td>68189</td>\n",
       "      <td>37218</td>\n",
       "      <td>13815.05000</td>\n",
       "    </tr>\n",
       "    <tr>\n",
       "      <th>260584</th>\n",
       "      <td>68495</td>\n",
       "      <td>10281</td>\n",
       "      <td>12332.01000</td>\n",
       "    </tr>\n",
       "    <tr>\n",
       "      <th>...</th>\n",
       "      <td>...</td>\n",
       "      <td>...</td>\n",
       "      <td>...</td>\n",
       "    </tr>\n",
       "    <tr>\n",
       "      <th>119879</th>\n",
       "      <td>81025</td>\n",
       "      <td>4981</td>\n",
       "      <td>11424.53550</td>\n",
       "    </tr>\n",
       "    <tr>\n",
       "      <th>259178</th>\n",
       "      <td>103012</td>\n",
       "      <td>0</td>\n",
       "      <td>6400.89000</td>\n",
       "    </tr>\n",
       "    <tr>\n",
       "      <th>131932</th>\n",
       "      <td>19722</td>\n",
       "      <td>74</td>\n",
       "      <td>4713.18000</td>\n",
       "    </tr>\n",
       "    <tr>\n",
       "      <th>146867</th>\n",
       "      <td>44676</td>\n",
       "      <td>0</td>\n",
       "      <td>10682.46000</td>\n",
       "    </tr>\n",
       "    <tr>\n",
       "      <th>121958</th>\n",
       "      <td>84353</td>\n",
       "      <td>0</td>\n",
       "      <td>13054.94000</td>\n",
       "    </tr>\n",
       "  </tbody>\n",
       "</table>\n",
       "<p>230268 rows × 3 columns</p>\n",
       "</div>"
      ],
      "text/plain": [
       "        Salaries  Overtime          H/D\n",
       "245781     31799        89   6599.99061\n",
       "255286      1997         0    868.09000\n",
       "243202      7303      1729   2422.57000\n",
       "219622     68189     37218  13815.05000\n",
       "260584     68495     10281  12332.01000\n",
       "...          ...       ...          ...\n",
       "119879     81025      4981  11424.53550\n",
       "259178    103012         0   6400.89000\n",
       "131932     19722        74   4713.18000\n",
       "146867     44676         0  10682.46000\n",
       "121958     84353         0  13054.94000\n",
       "\n",
       "[230268 rows x 3 columns]"
      ]
     },
     "execution_count": 32,
     "metadata": {},
     "output_type": "execute_result"
    }
   ],
   "source": [
    "X_train"
   ]
  },
  {
   "cell_type": "code",
   "execution_count": 33,
   "id": "9f6b847c",
   "metadata": {},
   "outputs": [
    {
     "data": {
      "text/plain": [
       "245781     48581\n",
       "255286      3027\n",
       "243202     14235\n",
       "219622    148874\n",
       "260584    112136\n",
       "           ...  \n",
       "119879    139667\n",
       "259178    136787\n",
       "131932     26042\n",
       "146867     75626\n",
       "121958    122649\n",
       "Name: Total_Compensation, Length: 230268, dtype: int64"
      ]
     },
     "execution_count": 33,
     "metadata": {},
     "output_type": "execute_result"
    }
   ],
   "source": [
    "y_train"
   ]
  },
  {
   "cell_type": "code",
   "execution_count": 39,
   "id": "63be0d79",
   "metadata": {},
   "outputs": [],
   "source": [
    "from sklearn.linear_model import LinearRegression\n",
    "model = LinearRegression()"
   ]
  },
  {
   "cell_type": "code",
   "execution_count": 40,
   "id": "efe529a1",
   "metadata": {},
   "outputs": [
    {
     "data": {
      "text/plain": [
       "LinearRegression()"
      ]
     },
     "execution_count": 40,
     "metadata": {},
     "output_type": "execute_result"
    }
   ],
   "source": [
    "# Training the model on the training data\n",
    "model.fit(X_train, y_train)"
   ]
  },
  {
   "cell_type": "code",
   "execution_count": 41,
   "id": "80b44034",
   "metadata": {},
   "outputs": [
    {
     "data": {
      "text/plain": [
       "array([116526.61080517,  61512.21453169,  86183.27060672, ...,\n",
       "        95603.33498013,  45994.55955129,  17407.91127735])"
      ]
     },
     "execution_count": 41,
     "metadata": {},
     "output_type": "execute_result"
    }
   ],
   "source": [
    "# Making predictions on the test data\n",
    "y_pred = model.predict(X_test)\n",
    "\n",
    "y_pred"
   ]
  },
  {
   "cell_type": "code",
   "execution_count": 46,
   "id": "eaf87752",
   "metadata": {},
   "outputs": [
    {
     "name": "stdout",
     "output_type": "stream",
     "text": [
      "Mean Squared Error: 58646458.49\n"
     ]
    }
   ],
   "source": [
    "from sklearn.metrics import mean_squared_error\n",
    "mse = mean_squared_error(y_test, y_pred)\n",
    "print(f\"Mean Squared Error: {mse:.2f}\")\n"
   ]
  },
  {
   "cell_type": "code",
   "execution_count": null,
   "id": "c075e12b",
   "metadata": {},
   "outputs": [],
   "source": []
  }
 ],
 "metadata": {
  "kernelspec": {
   "display_name": "Python 3 (ipykernel)",
   "language": "python",
   "name": "python3"
  },
  "language_info": {
   "codemirror_mode": {
    "name": "ipython",
    "version": 3
   },
   "file_extension": ".py",
   "mimetype": "text/x-python",
   "name": "python",
   "nbconvert_exporter": "python",
   "pygments_lexer": "ipython3",
   "version": "3.9.13"
  }
 },
 "nbformat": 4,
 "nbformat_minor": 5
}
