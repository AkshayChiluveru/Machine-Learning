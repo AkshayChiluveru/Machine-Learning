{
 "cells": [
  {
   "cell_type": "code",
   "execution_count": 67,
   "id": "2e762568",
   "metadata": {},
   "outputs": [],
   "source": [
    "import numpy as np\n",
    "import pandas as pd\n",
    "import matplotlib.pyplot as plt\n",
    "import seaborn as sns\n",
    "import warnings\n",
    "warnings.filterwarnings('ignore')"
   ]
  },
  {
   "cell_type": "code",
   "execution_count": 68,
   "id": "a38258d4",
   "metadata": {},
   "outputs": [
    {
     "data": {
      "text/html": [
       "<div>\n",
       "<style scoped>\n",
       "    .dataframe tbody tr th:only-of-type {\n",
       "        vertical-align: middle;\n",
       "    }\n",
       "\n",
       "    .dataframe tbody tr th {\n",
       "        vertical-align: top;\n",
       "    }\n",
       "\n",
       "    .dataframe thead th {\n",
       "        text-align: right;\n",
       "    }\n",
       "</style>\n",
       "<table border=\"1\" class=\"dataframe\">\n",
       "  <thead>\n",
       "    <tr style=\"text-align: right;\">\n",
       "      <th></th>\n",
       "      <th>YearStart</th>\n",
       "      <th>YearEnd</th>\n",
       "      <th>LocationAbbr</th>\n",
       "      <th>LocationDesc</th>\n",
       "      <th>Datasource</th>\n",
       "      <th>Class</th>\n",
       "      <th>Topic</th>\n",
       "      <th>Question</th>\n",
       "      <th>Data_Value_Unit</th>\n",
       "      <th>Data_Value_Type</th>\n",
       "      <th>...</th>\n",
       "      <th>GeoLocation</th>\n",
       "      <th>ClassID</th>\n",
       "      <th>TopicID</th>\n",
       "      <th>QuestionID</th>\n",
       "      <th>DataValueTypeID</th>\n",
       "      <th>LocationID</th>\n",
       "      <th>StratificationCategory1</th>\n",
       "      <th>Stratification1</th>\n",
       "      <th>StratificationCategoryId1</th>\n",
       "      <th>StratificationID1</th>\n",
       "    </tr>\n",
       "  </thead>\n",
       "  <tbody>\n",
       "    <tr>\n",
       "      <th>0</th>\n",
       "      <td>2011</td>\n",
       "      <td>2011</td>\n",
       "      <td>AL</td>\n",
       "      <td>Alabama</td>\n",
       "      <td>Behavioral Risk Factor Surveillance System</td>\n",
       "      <td>Obesity / Weight Status</td>\n",
       "      <td>Obesity / Weight Status</td>\n",
       "      <td>Percent of adults aged 18 years and older who ...</td>\n",
       "      <td>NaN</td>\n",
       "      <td>Value</td>\n",
       "      <td>...</td>\n",
       "      <td>(32.84057112200048, -86.63186076199969)</td>\n",
       "      <td>OWS</td>\n",
       "      <td>OWS1</td>\n",
       "      <td>Q036</td>\n",
       "      <td>VALUE</td>\n",
       "      <td>1</td>\n",
       "      <td>Total</td>\n",
       "      <td>Total</td>\n",
       "      <td>OVR</td>\n",
       "      <td>OVERALL</td>\n",
       "    </tr>\n",
       "    <tr>\n",
       "      <th>1</th>\n",
       "      <td>2011</td>\n",
       "      <td>2011</td>\n",
       "      <td>AL</td>\n",
       "      <td>Alabama</td>\n",
       "      <td>Behavioral Risk Factor Surveillance System</td>\n",
       "      <td>Obesity / Weight Status</td>\n",
       "      <td>Obesity / Weight Status</td>\n",
       "      <td>Percent of adults aged 18 years and older who ...</td>\n",
       "      <td>NaN</td>\n",
       "      <td>Value</td>\n",
       "      <td>...</td>\n",
       "      <td>(32.84057112200048, -86.63186076199969)</td>\n",
       "      <td>OWS</td>\n",
       "      <td>OWS1</td>\n",
       "      <td>Q036</td>\n",
       "      <td>VALUE</td>\n",
       "      <td>1</td>\n",
       "      <td>Gender</td>\n",
       "      <td>Male</td>\n",
       "      <td>GEN</td>\n",
       "      <td>MALE</td>\n",
       "    </tr>\n",
       "    <tr>\n",
       "      <th>2</th>\n",
       "      <td>2011</td>\n",
       "      <td>2011</td>\n",
       "      <td>AL</td>\n",
       "      <td>Alabama</td>\n",
       "      <td>Behavioral Risk Factor Surveillance System</td>\n",
       "      <td>Obesity / Weight Status</td>\n",
       "      <td>Obesity / Weight Status</td>\n",
       "      <td>Percent of adults aged 18 years and older who ...</td>\n",
       "      <td>NaN</td>\n",
       "      <td>Value</td>\n",
       "      <td>...</td>\n",
       "      <td>(32.84057112200048, -86.63186076199969)</td>\n",
       "      <td>OWS</td>\n",
       "      <td>OWS1</td>\n",
       "      <td>Q036</td>\n",
       "      <td>VALUE</td>\n",
       "      <td>1</td>\n",
       "      <td>Gender</td>\n",
       "      <td>Female</td>\n",
       "      <td>GEN</td>\n",
       "      <td>FEMALE</td>\n",
       "    </tr>\n",
       "    <tr>\n",
       "      <th>3</th>\n",
       "      <td>2011</td>\n",
       "      <td>2011</td>\n",
       "      <td>AL</td>\n",
       "      <td>Alabama</td>\n",
       "      <td>Behavioral Risk Factor Surveillance System</td>\n",
       "      <td>Obesity / Weight Status</td>\n",
       "      <td>Obesity / Weight Status</td>\n",
       "      <td>Percent of adults aged 18 years and older who ...</td>\n",
       "      <td>NaN</td>\n",
       "      <td>Value</td>\n",
       "      <td>...</td>\n",
       "      <td>(32.84057112200048, -86.63186076199969)</td>\n",
       "      <td>OWS</td>\n",
       "      <td>OWS1</td>\n",
       "      <td>Q036</td>\n",
       "      <td>VALUE</td>\n",
       "      <td>1</td>\n",
       "      <td>Education</td>\n",
       "      <td>Less than high school</td>\n",
       "      <td>EDU</td>\n",
       "      <td>EDUHS</td>\n",
       "    </tr>\n",
       "    <tr>\n",
       "      <th>4</th>\n",
       "      <td>2011</td>\n",
       "      <td>2011</td>\n",
       "      <td>AL</td>\n",
       "      <td>Alabama</td>\n",
       "      <td>Behavioral Risk Factor Surveillance System</td>\n",
       "      <td>Obesity / Weight Status</td>\n",
       "      <td>Obesity / Weight Status</td>\n",
       "      <td>Percent of adults aged 18 years and older who ...</td>\n",
       "      <td>NaN</td>\n",
       "      <td>Value</td>\n",
       "      <td>...</td>\n",
       "      <td>(32.84057112200048, -86.63186076199969)</td>\n",
       "      <td>OWS</td>\n",
       "      <td>OWS1</td>\n",
       "      <td>Q036</td>\n",
       "      <td>VALUE</td>\n",
       "      <td>1</td>\n",
       "      <td>Education</td>\n",
       "      <td>High school graduate</td>\n",
       "      <td>EDU</td>\n",
       "      <td>EDUHSGRAD</td>\n",
       "    </tr>\n",
       "  </tbody>\n",
       "</table>\n",
       "<p>5 rows × 33 columns</p>\n",
       "</div>"
      ],
      "text/plain": [
       "   YearStart  YearEnd LocationAbbr LocationDesc  \\\n",
       "0       2011     2011           AL      Alabama   \n",
       "1       2011     2011           AL      Alabama   \n",
       "2       2011     2011           AL      Alabama   \n",
       "3       2011     2011           AL      Alabama   \n",
       "4       2011     2011           AL      Alabama   \n",
       "\n",
       "                                   Datasource                    Class  \\\n",
       "0  Behavioral Risk Factor Surveillance System  Obesity / Weight Status   \n",
       "1  Behavioral Risk Factor Surveillance System  Obesity / Weight Status   \n",
       "2  Behavioral Risk Factor Surveillance System  Obesity / Weight Status   \n",
       "3  Behavioral Risk Factor Surveillance System  Obesity / Weight Status   \n",
       "4  Behavioral Risk Factor Surveillance System  Obesity / Weight Status   \n",
       "\n",
       "                     Topic                                           Question  \\\n",
       "0  Obesity / Weight Status  Percent of adults aged 18 years and older who ...   \n",
       "1  Obesity / Weight Status  Percent of adults aged 18 years and older who ...   \n",
       "2  Obesity / Weight Status  Percent of adults aged 18 years and older who ...   \n",
       "3  Obesity / Weight Status  Percent of adults aged 18 years and older who ...   \n",
       "4  Obesity / Weight Status  Percent of adults aged 18 years and older who ...   \n",
       "\n",
       "   Data_Value_Unit Data_Value_Type  ...  \\\n",
       "0              NaN           Value  ...   \n",
       "1              NaN           Value  ...   \n",
       "2              NaN           Value  ...   \n",
       "3              NaN           Value  ...   \n",
       "4              NaN           Value  ...   \n",
       "\n",
       "                               GeoLocation  ClassID TopicID QuestionID  \\\n",
       "0  (32.84057112200048, -86.63186076199969)      OWS    OWS1       Q036   \n",
       "1  (32.84057112200048, -86.63186076199969)      OWS    OWS1       Q036   \n",
       "2  (32.84057112200048, -86.63186076199969)      OWS    OWS1       Q036   \n",
       "3  (32.84057112200048, -86.63186076199969)      OWS    OWS1       Q036   \n",
       "4  (32.84057112200048, -86.63186076199969)      OWS    OWS1       Q036   \n",
       "\n",
       "   DataValueTypeID  LocationID  StratificationCategory1  \\\n",
       "0            VALUE           1                    Total   \n",
       "1            VALUE           1                   Gender   \n",
       "2            VALUE           1                   Gender   \n",
       "3            VALUE           1                Education   \n",
       "4            VALUE           1                Education   \n",
       "\n",
       "         Stratification1 StratificationCategoryId1 StratificationID1  \n",
       "0                  Total                       OVR           OVERALL  \n",
       "1                   Male                       GEN              MALE  \n",
       "2                 Female                       GEN            FEMALE  \n",
       "3  Less than high school                       EDU             EDUHS  \n",
       "4   High school graduate                       EDU         EDUHSGRAD  \n",
       "\n",
       "[5 rows x 33 columns]"
      ]
     },
     "execution_count": 68,
     "metadata": {},
     "output_type": "execute_result"
    }
   ],
   "source": [
    "data = pd.read_csv('Nutrition__Physical_Activity__and_Obesity_-_Behavioral_Risk_Factor_Surveillance_System.csv')\n",
    "data.head()"
   ]
  },
  {
   "cell_type": "code",
   "execution_count": 69,
   "id": "cd475a8b",
   "metadata": {},
   "outputs": [
    {
     "data": {
      "text/plain": [
       "(53392, 33)"
      ]
     },
     "execution_count": 69,
     "metadata": {},
     "output_type": "execute_result"
    }
   ],
   "source": [
    "data.shape"
   ]
  },
  {
   "cell_type": "code",
   "execution_count": 70,
   "id": "14dedb32",
   "metadata": {},
   "outputs": [
    {
     "name": "stdout",
     "output_type": "stream",
     "text": [
      "<class 'pandas.core.frame.DataFrame'>\n",
      "RangeIndex: 53392 entries, 0 to 53391\n",
      "Data columns (total 33 columns):\n",
      " #   Column                      Non-Null Count  Dtype  \n",
      "---  ------                      --------------  -----  \n",
      " 0   YearStart                   53392 non-null  int64  \n",
      " 1   YearEnd                     53392 non-null  int64  \n",
      " 2   LocationAbbr                53392 non-null  object \n",
      " 3   LocationDesc                53392 non-null  object \n",
      " 4   Datasource                  53392 non-null  object \n",
      " 5   Class                       53392 non-null  object \n",
      " 6   Topic                       53392 non-null  object \n",
      " 7   Question                    53392 non-null  object \n",
      " 8   Data_Value_Unit             0 non-null      float64\n",
      " 9   Data_Value_Type             53392 non-null  object \n",
      " 10  Data_Value                  48346 non-null  float64\n",
      " 11  Data_Value_Alt              48346 non-null  float64\n",
      " 12  Data_Value_Footnote_Symbol  5046 non-null   object \n",
      " 13  Data_Value_Footnote         5046 non-null   object \n",
      " 14  Low_Confidence_Limit        48346 non-null  float64\n",
      " 15  High_Confidence_Limit       48346 non-null  float64\n",
      " 16  Sample_Size                 48346 non-null  float64\n",
      " 17  Total                       1907 non-null   object \n",
      " 18  Age(years)                  11438 non-null  object \n",
      " 19  Education                   7628 non-null   object \n",
      " 20  Gender                      3814 non-null   object \n",
      " 21  Income                      13349 non-null  object \n",
      " 22  Race/Ethnicity              15256 non-null  object \n",
      " 23  GeoLocation                 52384 non-null  object \n",
      " 24  ClassID                     53392 non-null  object \n",
      " 25  TopicID                     53392 non-null  object \n",
      " 26  QuestionID                  53392 non-null  object \n",
      " 27  DataValueTypeID             53392 non-null  object \n",
      " 28  LocationID                  53392 non-null  int64  \n",
      " 29  StratificationCategory1     53392 non-null  object \n",
      " 30  Stratification1             53392 non-null  object \n",
      " 31  StratificationCategoryId1   53392 non-null  object \n",
      " 32  StratificationID1           53392 non-null  object \n",
      "dtypes: float64(6), int64(3), object(24)\n",
      "memory usage: 13.4+ MB\n"
     ]
    }
   ],
   "source": [
    "data.info()"
   ]
  },
  {
   "cell_type": "code",
   "execution_count": 71,
   "id": "ab02e07d",
   "metadata": {},
   "outputs": [
    {
     "data": {
      "text/html": [
       "<div>\n",
       "<style scoped>\n",
       "    .dataframe tbody tr th:only-of-type {\n",
       "        vertical-align: middle;\n",
       "    }\n",
       "\n",
       "    .dataframe tbody tr th {\n",
       "        vertical-align: top;\n",
       "    }\n",
       "\n",
       "    .dataframe thead th {\n",
       "        text-align: right;\n",
       "    }\n",
       "</style>\n",
       "<table border=\"1\" class=\"dataframe\">\n",
       "  <thead>\n",
       "    <tr style=\"text-align: right;\">\n",
       "      <th></th>\n",
       "      <th>YearStart</th>\n",
       "      <th>YearEnd</th>\n",
       "      <th>Data_Value_Unit</th>\n",
       "      <th>Data_Value</th>\n",
       "      <th>Data_Value_Alt</th>\n",
       "      <th>Low_Confidence_Limit</th>\n",
       "      <th>High_Confidence_Limit</th>\n",
       "      <th>Sample_Size</th>\n",
       "      <th>LocationID</th>\n",
       "    </tr>\n",
       "  </thead>\n",
       "  <tbody>\n",
       "    <tr>\n",
       "      <th>count</th>\n",
       "      <td>53392.000000</td>\n",
       "      <td>53392.000000</td>\n",
       "      <td>0.0</td>\n",
       "      <td>48346.000000</td>\n",
       "      <td>48346.000000</td>\n",
       "      <td>48346.000000</td>\n",
       "      <td>48346.000000</td>\n",
       "      <td>48346.00000</td>\n",
       "      <td>53392.000000</td>\n",
       "    </tr>\n",
       "    <tr>\n",
       "      <th>mean</th>\n",
       "      <td>2013.281465</td>\n",
       "      <td>2013.281465</td>\n",
       "      <td>NaN</td>\n",
       "      <td>31.156681</td>\n",
       "      <td>31.156681</td>\n",
       "      <td>26.892227</td>\n",
       "      <td>35.989997</td>\n",
       "      <td>3889.19286</td>\n",
       "      <td>30.282215</td>\n",
       "    </tr>\n",
       "    <tr>\n",
       "      <th>std</th>\n",
       "      <td>1.693300</td>\n",
       "      <td>1.693300</td>\n",
       "      <td>NaN</td>\n",
       "      <td>10.247033</td>\n",
       "      <td>10.247033</td>\n",
       "      <td>10.038584</td>\n",
       "      <td>11.205813</td>\n",
       "      <td>19829.42129</td>\n",
       "      <td>16.821318</td>\n",
       "    </tr>\n",
       "    <tr>\n",
       "      <th>min</th>\n",
       "      <td>2011.000000</td>\n",
       "      <td>2011.000000</td>\n",
       "      <td>NaN</td>\n",
       "      <td>0.900000</td>\n",
       "      <td>0.900000</td>\n",
       "      <td>0.300000</td>\n",
       "      <td>3.000000</td>\n",
       "      <td>50.00000</td>\n",
       "      <td>1.000000</td>\n",
       "    </tr>\n",
       "    <tr>\n",
       "      <th>25%</th>\n",
       "      <td>2012.000000</td>\n",
       "      <td>2012.000000</td>\n",
       "      <td>NaN</td>\n",
       "      <td>24.100000</td>\n",
       "      <td>24.100000</td>\n",
       "      <td>20.000000</td>\n",
       "      <td>28.200000</td>\n",
       "      <td>566.00000</td>\n",
       "      <td>17.000000</td>\n",
       "    </tr>\n",
       "    <tr>\n",
       "      <th>50%</th>\n",
       "      <td>2013.000000</td>\n",
       "      <td>2013.000000</td>\n",
       "      <td>NaN</td>\n",
       "      <td>30.700000</td>\n",
       "      <td>30.700000</td>\n",
       "      <td>26.450000</td>\n",
       "      <td>35.600000</td>\n",
       "      <td>1209.00000</td>\n",
       "      <td>30.000000</td>\n",
       "    </tr>\n",
       "    <tr>\n",
       "      <th>75%</th>\n",
       "      <td>2015.000000</td>\n",
       "      <td>2015.000000</td>\n",
       "      <td>NaN</td>\n",
       "      <td>37.000000</td>\n",
       "      <td>37.000000</td>\n",
       "      <td>32.900000</td>\n",
       "      <td>42.200000</td>\n",
       "      <td>2519.00000</td>\n",
       "      <td>44.000000</td>\n",
       "    </tr>\n",
       "    <tr>\n",
       "      <th>max</th>\n",
       "      <td>2016.000000</td>\n",
       "      <td>2016.000000</td>\n",
       "      <td>NaN</td>\n",
       "      <td>77.600000</td>\n",
       "      <td>77.600000</td>\n",
       "      <td>69.500000</td>\n",
       "      <td>87.700000</td>\n",
       "      <td>476876.00000</td>\n",
       "      <td>78.000000</td>\n",
       "    </tr>\n",
       "  </tbody>\n",
       "</table>\n",
       "</div>"
      ],
      "text/plain": [
       "          YearStart       YearEnd  Data_Value_Unit    Data_Value  \\\n",
       "count  53392.000000  53392.000000              0.0  48346.000000   \n",
       "mean    2013.281465   2013.281465              NaN     31.156681   \n",
       "std        1.693300      1.693300              NaN     10.247033   \n",
       "min     2011.000000   2011.000000              NaN      0.900000   \n",
       "25%     2012.000000   2012.000000              NaN     24.100000   \n",
       "50%     2013.000000   2013.000000              NaN     30.700000   \n",
       "75%     2015.000000   2015.000000              NaN     37.000000   \n",
       "max     2016.000000   2016.000000              NaN     77.600000   \n",
       "\n",
       "       Data_Value_Alt  Low_Confidence_Limit  High_Confidence_Limit   \\\n",
       "count    48346.000000          48346.000000            48346.000000   \n",
       "mean        31.156681             26.892227               35.989997   \n",
       "std         10.247033             10.038584               11.205813   \n",
       "min          0.900000              0.300000                3.000000   \n",
       "25%         24.100000             20.000000               28.200000   \n",
       "50%         30.700000             26.450000               35.600000   \n",
       "75%         37.000000             32.900000               42.200000   \n",
       "max         77.600000             69.500000               87.700000   \n",
       "\n",
       "        Sample_Size    LocationID  \n",
       "count   48346.00000  53392.000000  \n",
       "mean     3889.19286     30.282215  \n",
       "std     19829.42129     16.821318  \n",
       "min        50.00000      1.000000  \n",
       "25%       566.00000     17.000000  \n",
       "50%      1209.00000     30.000000  \n",
       "75%      2519.00000     44.000000  \n",
       "max    476876.00000     78.000000  "
      ]
     },
     "execution_count": 71,
     "metadata": {},
     "output_type": "execute_result"
    }
   ],
   "source": [
    "data.describe()"
   ]
  },
  {
   "cell_type": "code",
   "execution_count": 72,
   "id": "b7cf908c",
   "metadata": {},
   "outputs": [
    {
     "data": {
      "text/plain": [
       "YearStart                         0\n",
       "YearEnd                           0\n",
       "LocationAbbr                      0\n",
       "LocationDesc                      0\n",
       "Datasource                        0\n",
       "Class                             0\n",
       "Topic                             0\n",
       "Question                          0\n",
       "Data_Value_Unit               53392\n",
       "Data_Value_Type                   0\n",
       "Data_Value                     5046\n",
       "Data_Value_Alt                 5046\n",
       "Data_Value_Footnote_Symbol    48346\n",
       "Data_Value_Footnote           48346\n",
       "Low_Confidence_Limit           5046\n",
       "High_Confidence_Limit          5046\n",
       "Sample_Size                    5046\n",
       "Total                         51485\n",
       "Age(years)                    41954\n",
       "Education                     45764\n",
       "Gender                        49578\n",
       "Income                        40043\n",
       "Race/Ethnicity                38136\n",
       "GeoLocation                    1008\n",
       "ClassID                           0\n",
       "TopicID                           0\n",
       "QuestionID                        0\n",
       "DataValueTypeID                   0\n",
       "LocationID                        0\n",
       "StratificationCategory1           0\n",
       "Stratification1                   0\n",
       "StratificationCategoryId1         0\n",
       "StratificationID1                 0\n",
       "dtype: int64"
      ]
     },
     "execution_count": 72,
     "metadata": {},
     "output_type": "execute_result"
    }
   ],
   "source": [
    "data.isnull().sum()"
   ]
  },
  {
   "cell_type": "code",
   "execution_count": 73,
   "id": "ecdcd1c1",
   "metadata": {},
   "outputs": [],
   "source": [
    "data.drop(columns = ['Data_Value_Unit','Data_Value_Footnote_Symbol','Data_Value_Footnote','Total','Age(years)','Education','Gender','Income','Race/Ethnicity'],inplace = True)"
   ]
  },
  {
   "cell_type": "code",
   "execution_count": 74,
   "id": "a0339c64",
   "metadata": {},
   "outputs": [
    {
     "data": {
      "text/plain": [
       "(53392, 24)"
      ]
     },
     "execution_count": 74,
     "metadata": {},
     "output_type": "execute_result"
    }
   ],
   "source": [
    "data.shape"
   ]
  },
  {
   "cell_type": "code",
   "execution_count": 75,
   "id": "16316216",
   "metadata": {},
   "outputs": [],
   "source": [
    "## Remove extra whitespace from column names\n",
    "data.columns = data.columns.str.strip()\n",
    "high_conf_limit_column = data['High_Confidence_Limit']"
   ]
  },
  {
   "cell_type": "code",
   "execution_count": 79,
   "id": "4a42fb15",
   "metadata": {},
   "outputs": [],
   "source": [
    "from sklearn.preprocessing import LabelEncoder\n",
    "label_encoder = LabelEncoder()\n",
    "categorical_columns = ['LocationAbbr','LocationDesc','Class','Datasource','GeoLocation','ClassID','Topic','TopicID', 'Question','QuestionID','Data_Value_Type','DataValueTypeID','StratificationCategory1','StratificationCategoryId1','Stratification1','StratificationID1']\n",
    "for col in categorical_columns:\n",
    "    data[col] = label_encoder.fit_transform(data[col].astype(str))"
   ]
  },
  {
   "cell_type": "code",
   "execution_count": 80,
   "id": "7f1639f2",
   "metadata": {},
   "outputs": [],
   "source": [
    "data['Data_Value'] = data['Data_Value'].fillna(data['Data_Value'].mean())\n",
    "data['Data_Value_Alt'] = data['Data_Value_Alt'].fillna(data['Data_Value_Alt'].mean())\n",
    "data['Low_Confidence_Limit'] = data['Low_Confidence_Limit'].fillna(data['Low_Confidence_Limit'].mean())\n",
    "data['High_Confidence_Limit'] = data['High_Confidence_Limit'].fillna(data['High_Confidence_Limit'].mean())\n",
    "data['Sample_Size'] = data['Sample_Size'].fillna(data['Sample_Size'].mean())\n",
    "data['GeoLocation'] = data['GeoLocation'].fillna(data['GeoLocation'].mode()[0])"
   ]
  },
  {
   "cell_type": "code",
   "execution_count": 81,
   "id": "eb856330",
   "metadata": {},
   "outputs": [
    {
     "data": {
      "text/plain": [
       "YearStart                      int64\n",
       "YearEnd                        int64\n",
       "LocationAbbr                   int32\n",
       "LocationDesc                   int32\n",
       "Datasource                     int32\n",
       "Class                          int32\n",
       "Topic                          int32\n",
       "Question                       int32\n",
       "Data_Value_Type                int32\n",
       "Data_Value                   float64\n",
       "Data_Value_Alt               float64\n",
       "Low_Confidence_Limit         float64\n",
       "High_Confidence_Limit        float64\n",
       "Sample_Size                  float64\n",
       "GeoLocation                    int32\n",
       "ClassID                        int32\n",
       "TopicID                        int32\n",
       "QuestionID                     int32\n",
       "DataValueTypeID                int32\n",
       "LocationID                     int64\n",
       "StratificationCategory1        int32\n",
       "Stratification1                int32\n",
       "StratificationCategoryId1      int32\n",
       "StratificationID1              int32\n",
       "dtype: object"
      ]
     },
     "execution_count": 81,
     "metadata": {},
     "output_type": "execute_result"
    }
   ],
   "source": [
    "data.dtypes"
   ]
  },
  {
   "cell_type": "code",
   "execution_count": 83,
   "id": "faf362c1",
   "metadata": {},
   "outputs": [
    {
     "data": {
      "text/plain": [
       "YearStart                    0\n",
       "YearEnd                      0\n",
       "LocationAbbr                 0\n",
       "LocationDesc                 0\n",
       "Datasource                   0\n",
       "Class                        0\n",
       "Topic                        0\n",
       "Question                     0\n",
       "Data_Value_Type              0\n",
       "Data_Value                   0\n",
       "Data_Value_Alt               0\n",
       "Low_Confidence_Limit         0\n",
       "High_Confidence_Limit        0\n",
       "Sample_Size                  0\n",
       "GeoLocation                  0\n",
       "ClassID                      0\n",
       "TopicID                      0\n",
       "QuestionID                   0\n",
       "DataValueTypeID              0\n",
       "LocationID                   0\n",
       "StratificationCategory1      0\n",
       "Stratification1              0\n",
       "StratificationCategoryId1    0\n",
       "StratificationID1            0\n",
       "dtype: int64"
      ]
     },
     "execution_count": 83,
     "metadata": {},
     "output_type": "execute_result"
    }
   ],
   "source": [
    "data.isnull().sum()"
   ]
  },
  {
   "cell_type": "code",
   "execution_count": 84,
   "id": "a0b8b309",
   "metadata": {},
   "outputs": [],
   "source": [
    "X = data.drop('Data_Value',axis = 1)\n",
    "y = data['Data_Value']"
   ]
  },
  {
   "cell_type": "code",
   "execution_count": 85,
   "id": "81e956b2",
   "metadata": {},
   "outputs": [],
   "source": [
    "# Split data into training and testing sets\n",
    "from sklearn.model_selection import train_test_split\n",
    "X_train, X_test, y_train, y_test = train_test_split(X, y, test_size=0.25, random_state=42)"
   ]
  },
  {
   "cell_type": "code",
   "execution_count": 86,
   "id": "9b3da79c",
   "metadata": {},
   "outputs": [
    {
     "data": {
      "text/plain": [
       "LinearRegression()"
      ]
     },
     "execution_count": 86,
     "metadata": {},
     "output_type": "execute_result"
    }
   ],
   "source": [
    "from sklearn.linear_model import LinearRegression\n",
    "lr = LinearRegression()\n",
    "lr"
   ]
  },
  {
   "cell_type": "code",
   "execution_count": 87,
   "id": "51b416ae",
   "metadata": {},
   "outputs": [],
   "source": [
    "# Scale the numerical features\n",
    "from sklearn.preprocessing import StandardScaler\n",
    "scaler = StandardScaler()\n",
    "X_train_scaled = scaler.fit_transform(X_train)\n",
    "X_test_scaled = scaler.transform(X_test)"
   ]
  },
  {
   "cell_type": "code",
   "execution_count": 88,
   "id": "92337650",
   "metadata": {},
   "outputs": [
    {
     "data": {
      "text/plain": [
       "LinearRegression()"
      ]
     },
     "execution_count": 88,
     "metadata": {},
     "output_type": "execute_result"
    }
   ],
   "source": [
    "lr.fit(X_train_scaled, y_train)"
   ]
  },
  {
   "cell_type": "code",
   "execution_count": 90,
   "id": "e7f6cfb8",
   "metadata": {},
   "outputs": [
    {
     "data": {
      "text/plain": [
       "array([25.9, 19.4, 22.5, ..., 33.6, 28.5, 22.1])"
      ]
     },
     "execution_count": 90,
     "metadata": {},
     "output_type": "execute_result"
    }
   ],
   "source": [
    "# Making predictions on the test data\n",
    "y_pred = lr.predict(X_test_scaled)\n",
    "y_pred"
   ]
  },
  {
   "cell_type": "code",
   "execution_count": 91,
   "id": "7148d56a",
   "metadata": {},
   "outputs": [
    {
     "data": {
      "text/plain": [
       "4.6906158177789145e-28"
      ]
     },
     "execution_count": 91,
     "metadata": {},
     "output_type": "execute_result"
    }
   ],
   "source": [
    "# Evaluating the model\n",
    "from sklearn.metrics import mean_squared_error\n",
    "mse = mean_squared_error(y_test, y_pred)\n",
    "mse"
   ]
  },
  {
   "cell_type": "code",
   "execution_count": 92,
   "id": "849441d1",
   "metadata": {},
   "outputs": [
    {
     "data": {
      "text/plain": [
       "1.0"
      ]
     },
     "execution_count": 92,
     "metadata": {},
     "output_type": "execute_result"
    }
   ],
   "source": [
    "from sklearn.metrics import r2_score\n",
    "r2 = r2_score(y_test, y_pred)\n",
    "r2"
   ]
  },
  {
   "cell_type": "code",
   "execution_count": null,
   "id": "f5ee5196",
   "metadata": {},
   "outputs": [],
   "source": []
  }
 ],
 "metadata": {
  "kernelspec": {
   "display_name": "Python 3 (ipykernel)",
   "language": "python",
   "name": "python3"
  },
  "language_info": {
   "codemirror_mode": {
    "name": "ipython",
    "version": 3
   },
   "file_extension": ".py",
   "mimetype": "text/x-python",
   "name": "python",
   "nbconvert_exporter": "python",
   "pygments_lexer": "ipython3",
   "version": "3.9.13"
  }
 },
 "nbformat": 4,
 "nbformat_minor": 5
}
